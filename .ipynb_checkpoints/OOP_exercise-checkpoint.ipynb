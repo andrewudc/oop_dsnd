{
 "cells": [
  {
   "cell_type": "code",
   "execution_count": null,
   "metadata": {},
   "outputs": [],
   "source": []
  },
  {
   "cell_type": "code",
   "execution_count": 21,
   "metadata": {},
   "outputs": [],
   "source": [
    "import math\n",
    "\n",
    "def calculate_mean(data):\n",
    "    mean = 0\n",
    "    for i in data:\n",
    "        mean += i\n",
    "    mean = 1.0 * mean / len(data)\n",
    "    return mean\n",
    "        \n",
    "def read_data(file_name):\n",
    "    with open('numbers.txt') as file:\n",
    "        data_list = []\n",
    "        line = file.readline()\n",
    "        while line:\n",
    "            data_list.append(int(line))\n",
    "            line = file.readline()\n",
    "    file.close()\n",
    "    \n",
    "    return data_list"
   ]
  },
  {
   "cell_type": "code",
   "execution_count": 22,
   "metadata": {},
   "outputs": [
    {
     "data": {
      "text/plain": [
       "78.0909090909091"
      ]
     },
     "execution_count": 22,
     "metadata": {},
     "output_type": "execute_result"
    }
   ],
   "source": [
    "data_list = read_data('numbers.txt')\n",
    "calculate_mean(data_list)"
   ]
  },
  {
   "cell_type": "code",
   "execution_count": 23,
   "metadata": {},
   "outputs": [],
   "source": [
    "def calculate_stdev(data, sample=True):\n",
    "    if sample:\n",
    "        n = len(data) - 1\n",
    "    else:\n",
    "        n = len(data)\n",
    "    \n",
    "    mean = calculate_mean(data)\n",
    "    \n",
    "    stdev = 0\n",
    "    \n",
    "    for d in data:\n",
    "        stdev += (d - mean) ** 2\n",
    "        \n",
    "    stdev = math.sqrt(stdev / n)\n",
    "    \n",
    "    return stdev"
   ]
  },
  {
   "cell_type": "code",
   "execution_count": 18,
   "metadata": {},
   "outputs": [
    {
     "data": {
      "text/plain": [
       "92.87459776004906"
      ]
     },
     "execution_count": 18,
     "metadata": {},
     "output_type": "execute_result"
    }
   ],
   "source": [
    "calculate_stdev(data_list)"
   ]
  },
  {
   "cell_type": "code",
   "execution_count": 24,
   "metadata": {},
   "outputs": [],
   "source": [
    "import matplotlib.pyplot as plt\n",
    "\n",
    "def plot_histogram(data_list):\n",
    "    plt.hist(data_list)"
   ]
  },
  {
   "cell_type": "code",
   "execution_count": 25,
   "metadata": {},
   "outputs": [
    {
     "data": {
      "image/png": "[encoded data removed]",
      "text/plain": [
       "<matplotlib.figure.Figure at 0x116639438>"
      ]
     },
     "metadata": {},
     "output_type": "display_data"
    }
   ],
   "source": [
    "plot_histogram(data_list)"
   ]
  },
  {
   "cell_type": "code",
   "execution_count": 35,
   "metadata": {},
   "outputs": [],
   "source": [
    "import math\n",
    "\n",
    "def pdf(mu, sigma, x):\n",
    "    return (1 / (sigma * math.sqrt(2*math.pi))) * math.exp(-0.5*((x - mu) / sigma) ** 2)"
   ]
  },
  {
   "cell_type": "code",
   "execution_count": 108,
   "metadata": {},
   "outputs": [],
   "source": [
    "def plot_histogram_pdf(data):\n",
    "    \n",
    "    mu = calculate_mean(data)\n",
    "    sigma = calculate_stdev(data)\n",
    "    \n",
    "    min_range = min(data_list)\n",
    "    max_range = max(data_list)\n",
    "    n_spaces = 50\n",
    "    interval = 1.0 * (max_range - min_range) / n_spaces\n",
    "    \n",
    "    x = []\n",
    "    y = []\n",
    "    \n",
    "    for i in range(-n_spaces, n_spaces):\n",
    "        tmp = min_range + interval*i\n",
    "        x.append(tmp)\n",
    "        y.append(pdf(mu, sigma, tmp))\n",
    "    \n",
    "    fig, axes = plt.subplots(2,sharex=True)\n",
    "    fig.subplots_adjust(hspace=.5)\n",
    "    axes[0].hist(data, density=True)\n",
    "    axes[0].set_title('Normed Histogram of Data')\n",
    "    axes[0].set_ylabel('Density')\n",
    "\n",
    "    axes[1].plot(x, y)\n",
    "    axes[1].set_title('Normal Distribution for \\n Sample Mean and Sample Standard Deviation')\n",
    "    axes[0].set_ylabel('Density')\n",
    "    plt.show()\n",
    "    \n",
    "    return x, y"
   ]
  },
  {
   "cell_type": "code",
   "execution_count": 109,
   "metadata": {},
   "outputs": [
    {
     "data": {
      "image/png": "[encoded data removed]",
      "text/plain": [
       "<matplotlib.figure.Figure at 0x11b6e0668>"
      ]
     },
     "metadata": {},
     "output_type": "display_data"
    }
   ],
   "source": [
    "x, y = plot_histogram_pdf(data_list)"
   ]
  },
  {
   "cell_type": "code",
   "execution_count": 110,
   "metadata": {},
   "outputs": [],
   "source": [
    "data_list = [1, 3, 99, 100, 120, 32, 330, 23, 76, 44, 31, 1, 1, 1, 1, 2, 3, 3, 3, 3, 3]"
   ]
  },
  {
   "cell_type": "code",
   "execution_count": 111,
   "metadata": {},
   "outputs": [],
   "source": [
    "data_list = [0]*50 + [1]*73"
   ]
  },
  {
   "cell_type": "code",
   "execution_count": null,
   "metadata": {},
   "outputs": [],
   "source": []
  }
 ],
 "metadata": {
  "kernelspec": {
   "display_name": "Python 3",
   "language": "python",
   "name": "python3"
  },
  "language_info": {
   "codemirror_mode": {
    "name": "ipython",
    "version": 3
   },
   "file_extension": ".py",
   "mimetype": "text/x-python",
   "name": "python",
   "nbconvert_exporter": "python",
   "pygments_lexer": "ipython3",
   "version": "3.6.3"
  }
 },
 "nbformat": 4,
 "nbformat_minor": 2
}
