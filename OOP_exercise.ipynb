{
 "cells": [
  {
   "cell_type": "code",
   "execution_count": 32,
   "metadata": {},
   "outputs": [],
   "source": [
    "from distributions import Gaussian"
   ]
  },
  {
   "cell_type": "code",
   "execution_count": 61,
   "metadata": {},
   "outputs": [
    {
     "data": {
      "text/plain": [
       "0.19947114020071635"
      ]
     },
     "execution_count": 61,
     "metadata": {},
     "output_type": "execute_result"
    }
   ],
   "source": [
    "gaussian = Gaussian(25, 2)\n",
    "gaussian.mean\n",
    "gaussian.read_data_file('numbers.txt')\n",
    "gaussian.pdf(25)"
   ]
  },
  {
   "cell_type": "code",
   "execution_count": 34,
   "metadata": {},
   "outputs": [
    {
     "data": {
      "text/plain": [
       "[1, 3, 99, 100, 120, 32, 330, 23, 76, 44, 31]"
      ]
     },
     "execution_count": 34,
     "metadata": {},
     "output_type": "execute_result"
    }
   ],
   "source": [
    "gaussian.data"
   ]
  },
  {
   "cell_type": "code",
   "execution_count": 35,
   "metadata": {},
   "outputs": [
    {
     "data": {
      "text/plain": [
       "92.87459776004906"
      ]
     },
     "execution_count": 35,
     "metadata": {},
     "output_type": "execute_result"
    }
   ],
   "source": [
    "gaussian.calculate_mean()\n",
    "gaussian.calculate_stdev()"
   ]
  },
  {
   "cell_type": "code",
   "execution_count": 36,
   "metadata": {},
   "outputs": [
    {
     "data": {
      "image/png": "[encoded data removed]",
      "text/plain": [
       "<matplotlib.figure.Figure at 0x11b8c3048>"
      ]
     },
     "metadata": {},
     "output_type": "display_data"
    }
   ],
   "source": [
    "gaussian.plot_histogram()"
   ]
  },
  {
   "cell_type": "code",
   "execution_count": 60,
   "metadata": {},
   "outputs": [
    {
     "data": {
      "text/plain": [
       "0.00429"
      ]
     },
     "execution_count": 60,
     "metadata": {},
     "output_type": "execute_result"
    }
   ],
   "source": [
    "gaussian.pdf(5)\n",
    "gaussian.pdf(20)\n",
    "stdev = gaussian.stdev\n",
    "mean = gaussian.mean\n",
    "import math\n",
    "round(gaussian.pdf(75), 5)"
   ]
  },
  {
   "cell_type": "code",
   "execution_count": 38,
   "metadata": {},
   "outputs": [
    {
     "data": {
      "image/png": "[encoded data removed]",
      "text/plain": [
       "<matplotlib.figure.Figure at 0x11b8e5e80>"
      ]
     },
     "metadata": {},
     "output_type": "display_data"
    },
    {
     "data": {
      "text/plain": [
       "([1.0,\n",
       "  7.58,\n",
       "  14.16,\n",
       "  20.740000000000002,\n",
       "  27.32,\n",
       "  33.9,\n",
       "  40.480000000000004,\n",
       "  47.06,\n",
       "  53.64,\n",
       "  60.22,\n",
       "  66.8,\n",
       "  73.38,\n",
       "  79.96000000000001,\n",
       "  86.54,\n",
       "  93.12,\n",
       "  99.7,\n",
       "  106.28,\n",
       "  112.86,\n",
       "  119.44,\n",
       "  126.02,\n",
       "  132.6,\n",
       "  139.18,\n",
       "  145.76,\n",
       "  152.34,\n",
       "  158.92000000000002,\n",
       "  165.5,\n",
       "  172.08,\n",
       "  178.66,\n",
       "  185.24,\n",
       "  191.82,\n",
       "  198.4,\n",
       "  204.98,\n",
       "  211.56,\n",
       "  218.14000000000001,\n",
       "  224.72,\n",
       "  231.3,\n",
       "  237.88,\n",
       "  244.46,\n",
       "  251.04,\n",
       "  257.62,\n",
       "  264.2,\n",
       "  270.78000000000003,\n",
       "  277.36,\n",
       "  283.94,\n",
       "  290.52,\n",
       "  297.1,\n",
       "  303.68,\n",
       "  310.26,\n",
       "  316.84000000000003,\n",
       "  323.42],\n",
       " [0.0030436941280150395,\n",
       "  0.0032199635775976665,\n",
       "  0.003389385629106679,\n",
       "  0.0035498588092989685,\n",
       "  0.0036993144412822716,\n",
       "  0.0038357605437130374,\n",
       "  0.003957325730527453,\n",
       "  0.004062301768846044,\n",
       "  0.004149183447609647,\n",
       "  0.004216704458941581,\n",
       "  0.004263868097796145,\n",
       "  0.004289971740008139,\n",
       "  0.004294624258609417,\n",
       "  0.004277755775037969,\n",
       "  0.0042396194054553134,\n",
       "  0.004180784941175556,\n",
       "  0.004102124683731816,\n",
       "  0.004004791926750454,\n",
       "  0.0038901928264981145,\n",
       "  0.003759952619833299,\n",
       "  0.003615877323227138,\n",
       "  0.0034599121726495113,\n",
       "  0.003294098137140098,\n",
       "  0.003120527857220398,\n",
       "  0.002941302324101445,\n",
       "  0.002758489530620572,\n",
       "  0.002574086195982893,\n",
       "  0.002389983501515617,\n",
       "  0.002207937582926008,\n",
       "  0.0020295453159204953,\n",
       "  0.001856225716626904,\n",
       "  0.0016892070658496405,\n",
       "  0.0015295196657229566,\n",
       "  0.001377993956504496,\n",
       "  0.0012352635662074894,\n",
       "  0.0011017727408934497,\n",
       "  0.000977787511300198,\n",
       "  0.0008634098928327342,\n",
       "  0.0007585943899081439,\n",
       "  0.0006631660798856831,\n",
       "  0.0005768395828224327,\n",
       "  0.0004992382767035347,\n",
       "  0.0004299131886951978,\n",
       "  0.0003683610762264406,\n",
       "  0.0003140413022577166,\n",
       "  0.00026639120219446516,\n",
       "  0.00022483973132287702,\n",
       "  0.00018881926781767698,\n",
       "  0.00015777552448225903,\n",
       "  0.0001311755903990334])"
      ]
     },
     "execution_count": 38,
     "metadata": {},
     "output_type": "execute_result"
    }
   ],
   "source": [
    "gaussian.plot_histogram_pdf()"
   ]
  },
  {
   "cell_type": "code",
   "execution_count": 39,
   "metadata": {},
   "outputs": [],
   "source": [
    "gaussianone = Gaussian(5, 2)\n",
    "gaussiantwo = Gaussian(6, 1)\n",
    "\n",
    "result = gaussianone + gaussiantwo"
   ]
  },
  {
   "cell_type": "code",
   "execution_count": 1,
   "metadata": {},
   "outputs": [],
   "source": [
    "from distributions import Binomial"
   ]
  },
  {
   "cell_type": "code",
   "execution_count": 74,
   "metadata": {},
   "outputs": [],
   "source": [
    "binomial = Binomial(0.4, 20)"
   ]
  },
  {
   "cell_type": "code",
   "execution_count": 3,
   "metadata": {},
   "outputs": [
    {
     "data": {
      "text/plain": [
       "8.0"
      ]
     },
     "execution_count": 3,
     "metadata": {},
     "output_type": "execute_result"
    }
   ],
   "source": [
    "binomial.mean"
   ]
  },
  {
   "cell_type": "code",
   "execution_count": 4,
   "metadata": {},
   "outputs": [
    {
     "data": {
      "text/plain": [
       "4.8"
      ]
     },
     "execution_count": 4,
     "metadata": {},
     "output_type": "execute_result"
    }
   ],
   "source": [
    "binomial.stdev"
   ]
  },
  {
   "cell_type": "code",
   "execution_count": 5,
   "metadata": {},
   "outputs": [
    {
     "data": {
      "text/plain": [
       "0.4"
      ]
     },
     "execution_count": 5,
     "metadata": {},
     "output_type": "execute_result"
    }
   ],
   "source": [
    "binomial.p"
   ]
  },
  {
   "cell_type": "code",
   "execution_count": 6,
   "metadata": {},
   "outputs": [
    {
     "data": {
      "text/plain": [
       "20"
      ]
     },
     "execution_count": 6,
     "metadata": {},
     "output_type": "execute_result"
    }
   ],
   "source": [
    "binomial.n"
   ]
  },
  {
   "cell_type": "code",
   "execution_count": 7,
   "metadata": {},
   "outputs": [
    {
     "data": {
      "text/plain": [
       "0.4"
      ]
     },
     "execution_count": 7,
     "metadata": {},
     "output_type": "execute_result"
    }
   ],
   "source": [
    "binomial.p"
   ]
  },
  {
   "cell_type": "code",
   "execution_count": 72,
   "metadata": {},
   "outputs": [
    {
     "data": {
      "text/plain": [
       "8.0"
      ]
     },
     "execution_count": 72,
     "metadata": {},
     "output_type": "execute_result"
    }
   ],
   "source": [
    "binomial.calculate_mean()"
   ]
  },
  {
   "cell_type": "code",
   "execution_count": 75,
   "metadata": {},
   "outputs": [
    {
     "data": {
      "text/plain": [
       "4.8"
      ]
     },
     "execution_count": 75,
     "metadata": {},
     "output_type": "execute_result"
    }
   ],
   "source": [
    "binomial.calculate_stdev()"
   ]
  },
  {
   "cell_type": "code",
   "execution_count": 76,
   "metadata": {},
   "outputs": [
    {
     "data": {
      "image/png": "[encoded data removed]",
      "text/plain": [
       "<matplotlib.figure.Figure at 0x11bac3c18>"
      ]
     },
     "metadata": {},
     "output_type": "display_data"
    }
   ],
   "source": [
    "binomial.read_data_file('numbers_binomial.txt')\n",
    "binomial.replace_stats_with_data()\n",
    "binomial.plot_bar()"
   ]
  },
  {
   "cell_type": "code",
   "execution_count": 77,
   "metadata": {},
   "outputs": [
    {
     "ename": "ValueError",
     "evalue": "factorial() not defined for negative values",
     "output_type": "error",
     "traceback": [
      "\u001b[0;31m---------------------------------------------------------------------------\u001b[0m",
      "\u001b[0;31mValueError\u001b[0m                                Traceback (most recent call last)",
      "\u001b[0;32m<ipython-input-77-cd757cf0b072>\u001b[0m in \u001b[0;36m<module>\u001b[0;34m()\u001b[0m\n\u001b[0;32m----> 1\u001b[0;31m \u001b[0mbinomial\u001b[0m\u001b[0;34m.\u001b[0m\u001b[0mpdf\u001b[0m\u001b[0;34m(\u001b[0m\u001b[0;36m19\u001b[0m\u001b[0;34m)\u001b[0m\u001b[0;34m\u001b[0m\u001b[0m\n\u001b[0m",
      "\u001b[0;32m~/Desktop/oop/distributions/Binomialdistribution.py\u001b[0m in \u001b[0;36mpdf\u001b[0;34m(self, k)\u001b[0m\n\u001b[1;32m    107\u001b[0m                         \u001b[0mx\u001b[0m \u001b[0;34m(\u001b[0m\u001b[0mfloat\u001b[0m\u001b[0;34m)\u001b[0m\u001b[0;34m:\u001b[0m \u001b[0mpoint\u001b[0m \u001b[0;32mfor\u001b[0m \u001b[0mcalculating\u001b[0m \u001b[0mthe\u001b[0m \u001b[0mprobability\u001b[0m \u001b[0mdensity\u001b[0m \u001b[0mfunction\u001b[0m\u001b[0;34m\u001b[0m\u001b[0m\n\u001b[1;32m    108\u001b[0m \u001b[0;34m\u001b[0m\u001b[0m\n\u001b[0;32m--> 109\u001b[0;31m \u001b[0;34m\u001b[0m\u001b[0m\n\u001b[0m\u001b[1;32m    110\u001b[0m                 \u001b[0mReturns\u001b[0m\u001b[0;34m:\u001b[0m\u001b[0;34m\u001b[0m\u001b[0m\n\u001b[1;32m    111\u001b[0m                         \u001b[0mfloat\u001b[0m\u001b[0;34m:\u001b[0m \u001b[0mprobability\u001b[0m \u001b[0mdensity\u001b[0m \u001b[0mfunction\u001b[0m \u001b[0moutput\u001b[0m\u001b[0;34m\u001b[0m\u001b[0m\n",
      "\u001b[0;31mValueError\u001b[0m: factorial() not defined for negative values"
     ]
    }
   ],
   "source": [
    "binomial.pdf(19)"
   ]
  },
  {
   "cell_type": "code",
   "execution_count": 78,
   "metadata": {},
   "outputs": [
    {
     "data": {
      "text/plain": [
       "0.6153846153846154"
      ]
     },
     "execution_count": 78,
     "metadata": {},
     "output_type": "execute_result"
    }
   ],
   "source": [
    "binomial.p"
   ]
  },
  {
   "cell_type": "code",
   "execution_count": 79,
   "metadata": {},
   "outputs": [
    {
     "data": {
      "text/plain": [
       "13"
      ]
     },
     "execution_count": 79,
     "metadata": {},
     "output_type": "execute_result"
    }
   ],
   "source": [
    "len(binomial.data)"
   ]
  },
  {
   "cell_type": "code",
   "execution_count": 80,
   "metadata": {},
   "outputs": [
    {
     "data": {
      "text/plain": [
       "8"
      ]
     },
     "execution_count": 80,
     "metadata": {},
     "output_type": "execute_result"
    }
   ],
   "source": [
    "sum(binomial.data)"
   ]
  },
  {
   "cell_type": "code",
   "execution_count": 81,
   "metadata": {},
   "outputs": [
    {
     "data": {
      "text/plain": [
       "[0, 1, 1, 1, 1, 1, 0, 1, 0, 1, 0, 1, 0]"
      ]
     },
     "execution_count": 81,
     "metadata": {},
     "output_type": "execute_result"
    }
   ],
   "source": [
    "binomial.data"
   ]
  },
  {
   "cell_type": "code",
   "execution_count": 82,
   "metadata": {},
   "outputs": [
    {
     "data": {
      "text/plain": [
       "8.0"
      ]
     },
     "execution_count": 82,
     "metadata": {},
     "output_type": "execute_result"
    }
   ],
   "source": [
    "binomial.mean"
   ]
  },
  {
   "cell_type": "code",
   "execution_count": 84,
   "metadata": {},
   "outputs": [
    {
     "data": {
      "text/plain": [
       "3.0769230769230766"
      ]
     },
     "execution_count": 84,
     "metadata": {},
     "output_type": "execute_result"
    }
   ],
   "source": [
    "binomial.stdev"
   ]
  },
  {
   "cell_type": "code",
   "execution_count": 86,
   "metadata": {},
   "outputs": [
    {
     "data": {
      "text/plain": [
       "0.054390736120078866"
      ]
     },
     "execution_count": 86,
     "metadata": {},
     "output_type": "execute_result"
    }
   ],
   "source": [
    "binomial.pdf(5)"
   ]
  },
  {
   "cell_type": "code",
   "execution_count": 89,
   "metadata": {},
   "outputs": [
    {
     "data": {
      "text/plain": [
       "0.07464701952887093"
      ]
     },
     "execution_count": 89,
     "metadata": {},
     "output_type": "execute_result"
    }
   ],
   "source": [
    "binomial = Binomial(0.4, 20)\n",
    "binomial.pdf(5)\n"
   ]
  },
  {
   "cell_type": "code",
   "execution_count": 95,
   "metadata": {},
   "outputs": [
    {
     "data": {
      "text/plain": [
       "0.0047214180659790675"
      ]
     },
     "execution_count": 95,
     "metadata": {},
     "output_type": "execute_result"
    }
   ],
   "source": [
    "binomial.pdf(3)"
   ]
  },
  {
   "cell_type": "code",
   "execution_count": 96,
   "metadata": {},
   "outputs": [],
   "source": [
    "binomial.read_data_file('numbers_binomial.txt')\n",
    "binomial.replace_stats_with_data()"
   ]
  },
  {
   "cell_type": "code",
   "execution_count": 98,
   "metadata": {},
   "outputs": [
    {
     "data": {
      "text/plain": [
       "0.054390736120078866"
      ]
     },
     "execution_count": 98,
     "metadata": {},
     "output_type": "execute_result"
    }
   ],
   "source": [
    "binomial.pdf(5)"
   ]
  },
  {
   "cell_type": "code",
   "execution_count": 99,
   "metadata": {},
   "outputs": [
    {
     "ename": "ValueError",
     "evalue": "factorial() only accepts integral values",
     "output_type": "error",
     "traceback": [
      "\u001b[0;31m---------------------------------------------------------------------------\u001b[0m",
      "\u001b[0;31mValueError\u001b[0m                                Traceback (most recent call last)",
      "\u001b[0;32m<ipython-input-99-cca3fc49f19a>\u001b[0m in \u001b[0;36m<module>\u001b[0;34m()\u001b[0m\n\u001b[0;32m----> 1\u001b[0;31m \u001b[0mbinomial\u001b[0m\u001b[0;34m.\u001b[0m\u001b[0mplot_histogram_pdf\u001b[0m\u001b[0;34m(\u001b[0m\u001b[0;34m)\u001b[0m\u001b[0;34m\u001b[0m\u001b[0m\n\u001b[0m",
      "\u001b[0;32m~/Desktop/oop/distributions/Binomialdistribution.py\u001b[0m in \u001b[0;36mplot_histogram_pdf\u001b[0;34m(self, n_spaces)\u001b[0m\n\u001b[1;32m    143\u001b[0m                 \u001b[0mfig\u001b[0m\u001b[0;34m,\u001b[0m \u001b[0maxes\u001b[0m \u001b[0;34m=\u001b[0m \u001b[0mplt\u001b[0m\u001b[0;34m.\u001b[0m\u001b[0msubplots\u001b[0m\u001b[0;34m(\u001b[0m\u001b[0;36m2\u001b[0m\u001b[0;34m,\u001b[0m\u001b[0msharex\u001b[0m\u001b[0;34m=\u001b[0m\u001b[0;32mTrue\u001b[0m\u001b[0;34m)\u001b[0m\u001b[0;34m\u001b[0m\u001b[0m\n\u001b[1;32m    144\u001b[0m                 \u001b[0mfig\u001b[0m\u001b[0;34m.\u001b[0m\u001b[0msubplots_adjust\u001b[0m\u001b[0;34m(\u001b[0m\u001b[0mhspace\u001b[0m\u001b[0;34m=\u001b[0m\u001b[0;36m.5\u001b[0m\u001b[0;34m)\u001b[0m\u001b[0;34m\u001b[0m\u001b[0m\n\u001b[0;32m--> 145\u001b[0;31m                 \u001b[0maxes\u001b[0m\u001b[0;34m[\u001b[0m\u001b[0;36m0\u001b[0m\u001b[0;34m]\u001b[0m\u001b[0;34m.\u001b[0m\u001b[0mhist\u001b[0m\u001b[0;34m(\u001b[0m\u001b[0mself\u001b[0m\u001b[0;34m.\u001b[0m\u001b[0mdata\u001b[0m\u001b[0;34m,\u001b[0m \u001b[0mdensity\u001b[0m\u001b[0;34m=\u001b[0m\u001b[0;32mTrue\u001b[0m\u001b[0;34m)\u001b[0m\u001b[0;34m\u001b[0m\u001b[0m\n\u001b[0m\u001b[1;32m    146\u001b[0m                 \u001b[0maxes\u001b[0m\u001b[0;34m[\u001b[0m\u001b[0;36m0\u001b[0m\u001b[0;34m]\u001b[0m\u001b[0;34m.\u001b[0m\u001b[0mset_title\u001b[0m\u001b[0;34m(\u001b[0m\u001b[0;34m'Normed Histogram of Data'\u001b[0m\u001b[0;34m)\u001b[0m\u001b[0;34m\u001b[0m\u001b[0m\n\u001b[1;32m    147\u001b[0m                 \u001b[0maxes\u001b[0m\u001b[0;34m[\u001b[0m\u001b[0;36m0\u001b[0m\u001b[0;34m]\u001b[0m\u001b[0;34m.\u001b[0m\u001b[0mset_ylabel\u001b[0m\u001b[0;34m(\u001b[0m\u001b[0;34m'Density'\u001b[0m\u001b[0;34m)\u001b[0m\u001b[0;34m\u001b[0m\u001b[0m\n",
      "\u001b[0;32m~/Desktop/oop/distributions/Binomialdistribution.py\u001b[0m in \u001b[0;36mpdf\u001b[0;34m(self, k)\u001b[0m\n\u001b[1;32m    107\u001b[0m                         \u001b[0mx\u001b[0m \u001b[0;34m(\u001b[0m\u001b[0mfloat\u001b[0m\u001b[0;34m)\u001b[0m\u001b[0;34m:\u001b[0m \u001b[0mpoint\u001b[0m \u001b[0;32mfor\u001b[0m \u001b[0mcalculating\u001b[0m \u001b[0mthe\u001b[0m \u001b[0mprobability\u001b[0m \u001b[0mdensity\u001b[0m \u001b[0mfunction\u001b[0m\u001b[0;34m\u001b[0m\u001b[0m\n\u001b[1;32m    108\u001b[0m \u001b[0;34m\u001b[0m\u001b[0m\n\u001b[0;32m--> 109\u001b[0;31m \u001b[0;34m\u001b[0m\u001b[0m\n\u001b[0m\u001b[1;32m    110\u001b[0m                 \u001b[0mReturns\u001b[0m\u001b[0;34m:\u001b[0m\u001b[0;34m\u001b[0m\u001b[0m\n\u001b[1;32m    111\u001b[0m                         \u001b[0mfloat\u001b[0m\u001b[0;34m:\u001b[0m \u001b[0mprobability\u001b[0m \u001b[0mdensity\u001b[0m \u001b[0mfunction\u001b[0m \u001b[0moutput\u001b[0m\u001b[0;34m\u001b[0m\u001b[0m\n",
      "\u001b[0;31mValueError\u001b[0m: factorial() only accepts integral values"
     ]
    }
   ],
   "source": [
    "binomial.plot_histogram_pdf()"
   ]
  },
  {
   "cell_type": "code",
   "execution_count": 1,
   "metadata": {},
   "outputs": [],
   "source": [
    "from distributions import Binomial\n",
    "binomial = Binomial(0.4, 20)\n",
    "binomial.read_data_file('numbers_binomial.txt')\n",
    "binomial.replace_stats_with_data()\n",
    "binomial.plot_bar()"
   ]
  },
  {
   "cell_type": "code",
   "execution_count": 2,
   "metadata": {},
   "outputs": [
    {
     "data": {
      "image/png": "[encoded data removed]",
      "text/plain": [
       "<matplotlib.figure.Figure at 0x1103f7048>"
      ]
     },
     "metadata": {},
     "output_type": "display_data"
    },
    {
     "data": {
      "text/plain": [
       "([0, 1, 2, 3, 4, 5, 6, 7, 8, 9, 10, 11, 12, 13],\n",
       " [4.030384466833637e-06,\n",
       "  8.383199691013968e-05,\n",
       "  0.0008047871703373409,\n",
       "  0.0047214180659790675,\n",
       "  0.01888567226391627,\n",
       "  0.054390736120078866,\n",
       "  0.11603357038950161,\n",
       "  0.1856537126232026,\n",
       "  0.22278445514784312,\n",
       "  0.19803062679808284,\n",
       "  0.12673960115077304,\n",
       "  0.05530455322942824,\n",
       "  0.014747880861180866,\n",
       "  0.0018151237982991838])"
      ]
     },
     "execution_count": 2,
     "metadata": {},
     "output_type": "execute_result"
    }
   ],
   "source": [
    "binomial.plot_bar_pdf()"
   ]
  },
  {
   "cell_type": "code",
   "execution_count": 2,
   "metadata": {},
   "outputs": [
    {
     "data": {
      "text/plain": [
       "<matplotlib.figure.Figure at 0x108a1e6d8>"
      ]
     },
     "metadata": {},
     "output_type": "display_data"
    },
    {
     "data": {
      "text/plain": [
       "([0, 1, 2, 3, 4, 5, 6, 7, 8, 9, 10, 11, 12, 13, 14, 15, 16, 17, 18, 19, 20],\n",
       " [3.6561584400629733e-05,\n",
       "  0.00048748779200839646,\n",
       "  0.003087422682719845,\n",
       "  0.012349690730879381,\n",
       "  0.03499079040415824,\n",
       "  0.07464701952887093,\n",
       "  0.1244116992147849,\n",
       "  0.16588226561971323,\n",
       "  0.17970578775468934,\n",
       "  0.15973847800416832,\n",
       "  0.1171415505363901,\n",
       "  0.0709948791129637,\n",
       "  0.03549743955648185,\n",
       "  0.014563052125736147,\n",
       "  0.004854350708578716,\n",
       "  0.0012944935222876579,\n",
       "  0.0002696861504765954,\n",
       "  4.230370987868164e-05,\n",
       "  4.700412208742404e-06,\n",
       "  3.2985348833280036e-07,\n",
       "  1.0995116277760013e-08])"
      ]
     },
     "execution_count": 2,
     "metadata": {},
     "output_type": "execute_result"
    }
   ],
   "source": [
    "from distributions import Binomial\n",
    "binomial = Binomial(0.4, 20)\n",
    "binomial.plot_bar_pdf()"
   ]
  },
  {
   "cell_type": "code",
   "execution_count": 7,
   "metadata": {},
   "outputs": [
    {
     "data": {
      "image/png": "[encoded data removed]",
      "text/plain": [
       "<matplotlib.figure.Figure at 0x10a872860>"
      ]
     },
     "metadata": {},
     "output_type": "display_data"
    },
    {
     "data": {
      "text/plain": [
       "([0, 1, 2, 3, 4, 5, 6, 7, 8, 9, 10, 11, 12, 13, 14, 15, 16, 17, 18, 19, 20],\n",
       " [3.6561584400629733e-05,\n",
       "  0.00048748779200839646,\n",
       "  0.003087422682719845,\n",
       "  0.012349690730879381,\n",
       "  0.03499079040415824,\n",
       "  0.07464701952887093,\n",
       "  0.1244116992147849,\n",
       "  0.16588226561971323,\n",
       "  0.17970578775468934,\n",
       "  0.15973847800416832,\n",
       "  0.1171415505363901,\n",
       "  0.0709948791129637,\n",
       "  0.03549743955648185,\n",
       "  0.014563052125736147,\n",
       "  0.004854350708578716,\n",
       "  0.0012944935222876579,\n",
       "  0.0002696861504765954,\n",
       "  4.230370987868164e-05,\n",
       "  4.700412208742404e-06,\n",
       "  3.2985348833280036e-07,\n",
       "  1.0995116277760013e-08])"
      ]
     },
     "execution_count": 7,
     "metadata": {},
     "output_type": "execute_result"
    }
   ],
   "source": [
    "binomial\n",
    "binomial.plot_bar_pdf()"
   ]
  },
  {
   "cell_type": "code",
   "execution_count": 10,
   "metadata": {},
   "outputs": [],
   "source": [
    "sum_binomial = binomial + binomial"
   ]
  },
  {
   "cell_type": "code",
   "execution_count": 11,
   "metadata": {},
   "outputs": [
    {
     "data": {
      "image/png": "[encoded data removed]",
      "text/plain": [
       "<matplotlib.figure.Figure at 0x11580afd0>"
      ]
     },
     "metadata": {},
     "output_type": "display_data"
    },
    {
     "data": {
      "text/plain": [
       "([0,\n",
       "  1,\n",
       "  2,\n",
       "  3,\n",
       "  4,\n",
       "  5,\n",
       "  6,\n",
       "  7,\n",
       "  8,\n",
       "  9,\n",
       "  10,\n",
       "  11,\n",
       "  12,\n",
       "  13,\n",
       "  14,\n",
       "  15,\n",
       "  16,\n",
       "  17,\n",
       "  18,\n",
       "  19,\n",
       "  20,\n",
       "  21,\n",
       "  22,\n",
       "  23,\n",
       "  24,\n",
       "  25,\n",
       "  26,\n",
       "  27,\n",
       "  28,\n",
       "  29,\n",
       "  30,\n",
       "  31,\n",
       "  32,\n",
       "  33,\n",
       "  34,\n",
       "  35,\n",
       "  36,\n",
       "  37,\n",
       "  38,\n",
       "  39,\n",
       "  40],\n",
       " [1.3367494538843715e-09,\n",
       "  3.564665210358324e-08,\n",
       "  4.634064773465822e-07,\n",
       "  3.913210253148917e-06,\n",
       "  2.4131463227751655e-05,\n",
       "  0.00011583102349320796,\n",
       "  0.00045045398025136426,\n",
       "  0.001458612888432989,\n",
       "  0.0040111854431907215,\n",
       "  0.00950799512460023,\n",
       "  0.019649856590840474,\n",
       "  0.03572701198334632,\n",
       "  0.05756018597316907,\n",
       "  0.08265052344865303,\n",
       "  0.10626495871969677,\n",
       "  0.1227950634094274,\n",
       "  0.1279115243848202,\n",
       "  0.1203873170680661,\n",
       "  0.10255215898390818,\n",
       "  0.0791630700928414,\n",
       "  0.05541414906498898,\n",
       "  0.035183586707929516,\n",
       "  0.020257216589413964,\n",
       "  0.010568982568389895,\n",
       "  0.004990908435073007,\n",
       "  0.00212945426563115,\n",
       "  0.0008190208713965961,\n",
       "  0.00028311832591487274,\n",
       "  8.763186278317492e-05,\n",
       "  2.4174306974668943e-05,\n",
       "  5.909275038252409e-06,\n",
       "  1.2708118361833137e-06,\n",
       "  2.3827721928437136e-07,\n",
       "  3.850944958131255e-08,\n",
       "  5.28561072684682e-09,\n",
       "  6.040697973539224e-10,\n",
       "  5.593238864388172e-11,\n",
       "  4.03116314550499e-12,\n",
       "  2.1216648134236784e-13,\n",
       "  7.253554917687791e-15,\n",
       "  1.2089258196146318e-16])"
      ]
     },
     "execution_count": 11,
     "metadata": {},
     "output_type": "execute_result"
    }
   ],
   "source": [
    "sum_binomial.plot_bar_pdf()"
   ]
  },
  {
   "cell_type": "code",
   "execution_count": 12,
   "metadata": {},
   "outputs": [
    {
     "name": "stdout",
     "output_type": "stream",
     "text": [
      ".............\r\n",
      "----------------------------------------------------------------------\r\n",
      "Ran 13 tests in 0.004s\r\n",
      "\r\n",
      "OK\r\n"
     ]
    }
   ],
   "source": [
    "!python test.py"
   ]
  },
  {
   "cell_type": "code",
   "execution_count": null,
   "metadata": {},
   "outputs": [],
   "source": []
  }
 ],
 "metadata": {
  "kernelspec": {
   "display_name": "Python 3",
   "language": "python",
   "name": "python3"
  },
  "language_info": {
   "codemirror_mode": {
    "name": "ipython",
    "version": 3
   },
   "file_extension": ".py",
   "mimetype": "text/x-python",
   "name": "python",
   "nbconvert_exporter": "python",
   "pygments_lexer": "ipython3",
   "version": "3.6.3"
  }
 },
 "nbformat": 4,
 "nbformat_minor": 2
}
